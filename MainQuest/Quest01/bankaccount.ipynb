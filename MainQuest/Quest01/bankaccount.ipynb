{
  "nbformat": 4,
  "nbformat_minor": 0,
  "metadata": {
    "colab": {
      "provenance": [],
      "authorship_tag": "ABX9TyOz3Eruq6f6u2PFB2o0o8mm",
      "include_colab_link": true
    },
    "kernelspec": {
      "name": "python3",
      "display_name": "Python 3"
    },
    "language_info": {
      "name": "python"
    }
  },
  "cells": [
    {
      "cell_type": "markdown",
      "metadata": {
        "id": "view-in-github",
        "colab_type": "text"
      },
      "source": [
        "<a href=\"https://colab.research.google.com/github/boctory/AIFFEL_quest_cr/blob/main/MainQuest/Quest01/bankaccount.ipynb\" target=\"_parent\"><img src=\"https://colab.research.google.com/assets/colab-badge.svg\" alt=\"Open In Colab\"/></a>"
      ]
    },
    {
      "cell_type": "code",
      "execution_count": 7,
      "metadata": {
        "colab": {
          "base_uri": "https://localhost:8080/"
        },
        "id": "figbyCie4mjF",
        "outputId": "c65ffdcd-bdf7-4bad-bc26-c38f678c4b97"
      },
      "outputs": [
        {
          "output_type": "stream",
          "name": "stdout",
          "text": [
            "은행이름: SC은행, 예금주: 박광석, 계좌번호: 176-79-611357, 잔고: 30,000,000원\n",
            "은행이름: SC은행, 예금주: 조웅제, 계좌번호: 944-87-633552, 잔고: 50,000,000원\n",
            "입금 내역: [10000, 20000, 30000, 40000, 60000]\n",
            "출금 내역: [5000, 300]\n"
          ]
        }
      ],
      "source": [
        "import random\n",
        "\n",
        "class Account:\n",
        "    account_num = 0\n",
        "\n",
        "    def __init__(self, depositor, balance):\n",
        "        self.bank_name = 'SC은행'\n",
        "        self.depositor = depositor\n",
        "        self.balance = balance\n",
        "        self.account_number = self.generate_account_number()\n",
        "        self.deposit_count = 0\n",
        "        self.deposit_history_list = []\n",
        "        self.withdraw_history_list = []\n",
        "        Account.account_num += 1\n",
        "\n",
        "    def generate_account_number(self):\n",
        "        return f'{random.randint(100, 999)}-{random.randint(10, 99)}-{random.randint(100000, 999999)}'\n",
        "\n",
        "    @classmethod\n",
        "    def get_account_num(cls):\n",
        "        return cls.account_num\n",
        "\n",
        "    def deposit(self, amount):\n",
        "        if amount >= 1:\n",
        "            self.balance += amount\n",
        "            self.deposit_count += 1\n",
        "            self.deposit_history_list.append(amount)\n",
        "            print(f\"{amount}원이 입금되었습니다.\")\n",
        "            # 입금 횟수가 5회일 때 이자 지급\n",
        "            if self.deposit_count % 5 == 0:\n",
        "                interest = self.balance * 0.01\n",
        "                self.balance += interest\n",
        "                print(f\"이자가 {interest:.2f}원 지급되었습니다.\")\n",
        "        else:\n",
        "            raise ValueError('입금은 최소 1원 이상 가능합니다.')\n",
        "\n",
        "    def withdraw(self, amount):\n",
        "        if amount <= self.balance:\n",
        "            self.balance -= amount\n",
        "            self.withdraw_history_list.append(amount)\n",
        "            print(f\"{amount}원이 출금되었습니다.\")\n",
        "        else:\n",
        "            raise ValueError('잔고 이상으로 출금할 수 없습니다.')\n",
        "\n",
        "    def display_info(self):\n",
        "        formatted_balance = f'{int(self.balance):,}'\n",
        "        print(f'은행이름: {self.bank_name}, 예금주: {self.depositor}, 계좌번호: {self.account_number}, 잔고: {formatted_balance}원')\n",
        "\n",
        "    def deposit_history(self):\n",
        "        print(f'입금 내역: {self.deposit_history_list}')\n",
        "\n",
        "    def withdraw_history(self):\n",
        "        print(f'출금 내역: {self.withdraw_history_list}')\n",
        "\n",
        "# 여러 객체 생성 및 리스트 저장\n",
        "accounts = [\n",
        "    Account('차정은', 5000),\n",
        "    Account('박광석', 30000000),\n",
        "    Account('조웅제', 50000000),\n",
        "]\n",
        "\n",
        "# 객체 순회 반복문을 통해 잔고가 100만원 이상인 고객 정보 출력\n",
        "for account in accounts:\n",
        "    if account.balance >= 1000000:\n",
        "        account.display_info()\n",
        "\n",
        "# 입금 및 출금 내역 기록 예시\n",
        "try:\n",
        "    accounts[0].deposit(10000)\n",
        "    accounts[0].withdraw(5000)\n",
        "    accounts[0].deposit(20000)\n",
        "    accounts[0].deposit(30000)\n",
        "    accounts[0].deposit(40000) # 이 시점에서 이자 지급\n",
        "    accounts[0].deposit(60000)\n",
        "    accounts[0].withdraw(300)\n",
        "except ValueError as e:\n",
        "    print(e)\n",
        "\n",
        "# 입금 및 출금 내역 출력\n",
        "accounts[0].deposit_history()\n",
        "accounts[0].withdraw_history()\n",
        "\n",
        "# 회고: 전반적인 클래스의 개념과 활용에 대해서 이해할 수 있었다. 에러가 났던 부분은 대부분 타이핑 오류로 보다 정확한 타이핑 연습이 필요하다."
      ]
    },
    {
      "cell_type": "code",
      "source": [],
      "metadata": {
        "id": "fnDiQjN566Zv"
      },
      "execution_count": null,
      "outputs": []
    }
  ]
}