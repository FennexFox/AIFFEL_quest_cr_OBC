{
  "nbformat": 4,
  "nbformat_minor": 0,
  "metadata": {
    "colab": {
      "provenance": [],
      "include_colab_link": true
    },
    "kernelspec": {
      "name": "python3",
      "display_name": "Python 3"
    },
    "language_info": {
      "name": "python"
    }
  },
  "cells": [
    {
      "cell_type": "markdown",
      "metadata": {
        "id": "view-in-github",
        "colab_type": "text"
      },
      "source": [
        "<a href=\"https://colab.research.google.com/github/boctory/AIFFEL_quest_cr/blob/main/Python/Quest01/Palindrome.ipynb\" target=\"_parent\"><img src=\"https://colab.research.google.com/assets/colab-badge.svg\" alt=\"Open In Colab\"/></a>"
      ]
    },
    {
      "cell_type": "code",
      "execution_count": 10,
      "metadata": {
        "colab": {
          "base_uri": "https://localhost:8080/"
        },
        "id": "yEXuOekvIISs",
        "outputId": "25b7e6fd-1fad-490b-ddb6-1d3b80ec7d32"
      },
      "outputs": [
        {
          "output_type": "stream",
          "name": "stdout",
          "text": [
            "텍스트를 입력하세요: nurses run\n",
            "입력된 텍스트: nurses run\n",
            "뒤집힌 텍스트: nur sesrun\n",
            "입력된 텍스트는 회문입니다.\n"
          ]
        }
      ],
      "source": [
        "# 회문이란? 앞에서부터 읽어도 뒤에서부터 읽어도 같은 단어, 구, 문장, 숫자, 혹은 문단 (조건) 텍스트를 입력 받는다.\n",
        "# 입력된 단어를 출력한다.\n",
        "# 뒤집힌 단어를 출력한다.\n",
        "# 입력된 단어가 회문이 맞는지 확인하여 출력할 수 있게 한다.\n",
        "# input, 자료형, 제어문, 함수 활용\n",
        "\n",
        "# 활용할 요소: input(), 자료형: string, 제어문: if-else, 함수: is+palindrome() 함수를 정의해서 회문 여부 확인\n",
        "\n",
        "# 한국어의 회문에서는 음절 단위로 모아쓰는 한글의 특성 상 음소 단위가 아닌 음절 단위의 회문이 대부분이다.\n",
        "# 회문 예시:\n",
        "# 다시 합창합시다 / 소주 만 병만 주소 / 여보 안경 안 보여\n",
        "# Madam, I'm Adam / nurses run / Was it a cat I saw / A man, a plan, a canal Panama\n",
        "\n",
        "# 함수 정의 (회문), 입력된 단어에 띄어쓰기가 있으면 공백제거, 대문자가 입력 되었을 때 가시성을 높이기 위해 소문자로 대체한다.\n",
        "def is_palindrome(text):\n",
        "    processed_text = text.replace(' ', '').lower() # 띄어쓰기 제거, 대문자 소문자로 변경\n",
        "    return processed_text == processed_text[::-1]\n",
        "\n",
        "# 사용자로부터 입력 받기\n",
        "input_text = input(\"텍스트를 입력하세요: \")\n",
        "\n",
        "# 입력된 텍스트 출력\n",
        "print(\"입력된 텍스트:\", input_text)\n",
        "\n",
        "# 뒤집힌 텍스트 생성 및 출력\n",
        "reversed_text = input_text[::-1]\n",
        "print(\"뒤집힌 텍스트:\", reversed_text)\n",
        "\n",
        "# 회문 여부 확인 및 출력\n",
        "if is_palindrome(input_text):\n",
        "    print(\"입력된 텍스트는 회문입니다.\")\n",
        "else:\n",
        "    print(\"입력된 텍스트는 회문이 아닙니다.\")"
      ]
    }
  ]
}