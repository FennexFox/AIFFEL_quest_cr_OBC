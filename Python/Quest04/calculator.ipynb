{
  "nbformat": 4,
  "nbformat_minor": 0,
  "metadata": {
    "colab": {
      "provenance": [],
      "include_colab_link": true
    },
    "kernelspec": {
      "name": "python3",
      "display_name": "Python 3"
    },
    "language_info": {
      "name": "python"
    }
  },
  "cells": [
    {
      "cell_type": "markdown",
      "metadata": {
        "id": "view-in-github",
        "colab_type": "text"
      },
      "source": [
        "<a href=\"https://colab.research.google.com/github/boctory/AIFFEL_quest_cr/blob/main/Python/Quest04/calculator.ipynb\" target=\"_parent\"><img src=\"https://colab.research.google.com/assets/colab-badge.svg\" alt=\"Open In Colab\"/></a>"
      ]
    },
    {
      "cell_type": "code",
      "execution_count": null,
      "metadata": {
        "id": "or_ELtabL2XM",
        "colab": {
          "base_uri": "https://localhost:8080/"
        },
        "outputId": "e6d0201a-d06e-4b34-f991-dd3a5d57577c"
      },
      "outputs": [
        {
          "output_type": "stream",
          "name": "stdout",
          "text": [
            "\n",
            "계산기 프로그램\n",
            "첫 번째 정수를 입력하세요: 3\n",
            "두 번째 정수를 입력하세요: 4\n",
            "연산자를 입력하세요 (+, -, *, /, **): -\n",
            "결과: -1\n",
            "계산을 계속하시겠습니까? (y/n): n\n",
            "계산기를 종료합니다.\n"
          ]
        }
      ],
      "source": [
        "# [QUEST 04] 파이썬을 사용하여 간단한 계산기 프로그램 만들기\n",
        "\n",
        "# 사용자로부터 두 개의 정수와 연산자(+,-,*,/,**)를 입력받아 계산 결과를 출력하는 프로그램을 만들어주세요\n",
        "\n",
        "# 조건\n",
        "# 사용자가 입력한 값이 정수가 아닌 경우 ValueError를 처리하여 적절한 오류 메시지를 출력해야 합니다\n",
        "# 정수가 입력될 때 까지 잘못된 입력입니다. 정수를 입력해주세요.\"를 출력하며 다시 입력받기를 시도합니다.\n",
        "# 나눗셈 연산 시 두 번째 정수가 0인 경우 ZeroDivisionError를 처리하여 적절한 오류 메시지를 출력합니다.\n",
        "# 사용자가 지원하지 않는 연산자를 입력한 경우 적절한 오류 메시지를 출력합니다.\n",
        "# math 모듈을 사용하여 제곱 연산(**)을 지원합니다.\n",
        "# 계산기를 통해 계속 계산을 할 것인지 입력받습니다.\n",
        "\n",
        "import math\n",
        "\n",
        "def get_integer(prompt):\n",
        "    while True:\n",
        "        try:\n",
        "            return int(input(prompt))\n",
        "        except ValueError:\n",
        "            print(\"잘못된 입력입니다. 정수를 입력해주세요.\")\n",
        "\n",
        "def get_operator():\n",
        "    while True:\n",
        "        operator = input(\"연산자를 입력하세요 (+, -, *, /, **): \")\n",
        "        if operator in ('+', '-', '*', '/', '**'):\n",
        "            return operator\n",
        "        else:\n",
        "            print(\"지원하지 않는 연산자입니다. 다시 입력해주세요.\")\n",
        "\n",
        "def calculate(num1, num2, operator):\n",
        "    if operator == '+':\n",
        "        return num1 + num2\n",
        "    elif operator == '-':\n",
        "        return num1 - num2\n",
        "    elif operator == '*':\n",
        "        return num1 * num2\n",
        "    elif operator == '/':\n",
        "        if num2 == 0:\n",
        "            raise ZeroDivisionError(\"0으로 나눌 수 없습니다.\")\n",
        "        return num1 / num2\n",
        "    elif operator == '**':\n",
        "        return math.pow(num1, num2)\n",
        "\n",
        "def main():\n",
        "    while True:\n",
        "        print(\"\\n계산기 프로그램\")\n",
        "\n",
        "        num1 = get_integer(\"첫 번째 정수를 입력하세요: \")\n",
        "        num2 = get_integer(\"두 번째 정수를 입력하세요: \")\n",
        "        operator = get_operator()\n",
        "\n",
        "        try:\n",
        "            result = calculate(num1, num2, operator)\n",
        "            print(f\"결과: {result}\")\n",
        "        except ZeroDivisionError as e:\n",
        "            print(e)\n",
        "        except Exception as e:\n",
        "            print(\"예상치 못한 오류가 발생했습니다.\", e)\n",
        "\n",
        "        while True:\n",
        "            again = input(\"계산을 계속하시겠습니까? (y/n): \").strip().lower()\n",
        "\n",
        "            if again == 'y':\n",
        "              break\n",
        "            elif again == 'n':\n",
        "              print(\"계산기를 종료합니다.\")\n",
        "              return\n",
        "            else:\n",
        "              print(\"잘못된 입력입니다. y또는 n을 입력해주세요.\")\n",
        "\n",
        "if __name__ == \"__main__\":\n",
        "    main()"
      ]
    }
  ]
}